{
 "cells": [
  {
   "cell_type": "code",
   "execution_count": 1,
   "id": "2f0377a8-e7bd-4937-84b3-0215c1b0e688",
   "metadata": {},
   "outputs": [],
   "source": [
    "# Q1. In order to predict house price based on several characteristics, such as location, square footage,\n",
    "# number of bedrooms, etc., you are developing an SVM regression model. Which regression metric in this\n",
    "# situation would be the best to employ?\n",
    "# Dataset link: https://drive.google.com/file/d/1Z9oLpmt6IDRNw7IeNcHYTGeJRYypRSC0/view? usp=share_link\n",
    "Ans.\n",
    "When developing an SVM regression model to predict house prices based on several characteristics, the choice of regression metric would \n",
    "depend on the specific requirements of the problem and the characteristics of the dataset. Here are some regression metrics that could be\n",
    "used to evaluate the performance of the SVM regression model:\n",
    "1. Mean Absolute Error (MAE): This metric measures the average absolute difference between the predicted and actual values. It is useful\n",
    "when the dataset contains outliers that may affect the performance of other metrics. A lower MAE value indicates better performance.\n",
    "2. Mean Squared Error (MSE): This metric measures the average squared difference between the predicted and actual values. It penalizes \n",
    "larger errors more heavily than smaller errors. A lower MSE value indicates better performance.\n",
    "3. Root Mean Squared Error (RMSE): This metric is similar to MSE but takes the square root of the MSE to make the units of the error \n",
    "metric the same as the target variable. It is useful when the target variable has a specific unit, such as dollars for house prices. A\n",
    "lower RMSE value indicates better performance.\n",
    "4. R-squared (R2): This metric measures the proportion of the variance in the target variable that is explained by the model. It ranges\n",
    "from 0 to 1, with higher values indicating better performance. R2 can be useful for comparing the performance of different models.\n",
    "5. R-squared adjusted: The R2_adj metric penalizes the inclusion of unnecessary predictor variables that do not contribute significantly \n",
    "to the model's performance. It is useful for preventing overfitting and providing a more accurate measure of the model's performance.\n",
    "\n",
    "The R2_adj is calculated using the formula:\n",
    "\n",
    "R2_adj = 1 - [(1 - R2) * (n - 1) / (n - k - 1)]"
   ]
  },
  {
   "cell_type": "code",
   "execution_count": null,
   "id": "27576ae8-a400-4012-8049-acfdf98247e8",
   "metadata": {},
   "outputs": [],
   "source": [
    "# Q2. You have built an SVM regression model and are trying to decide between using MSE or R-squared as\n",
    "# your evaluation metric. Which metric would be more appropriate if your goal is to predict the actual price\n",
    "# of a house as accurately as possible?\n",
    "Ans.\n",
    "If the goal is to predict the actual price of a house as accurately as possible, the Mean Squared Error (MSE) would be a more appropriate\n",
    "evaluation metric than R-squared (R2).\n",
    "MSE measures the average squared difference between the predicted and actual values, which means it directly reflects how far the model's\n",
    "predictions are from the actual house prices. A lower MSE value indicates that the model's predictions are closer to the actual house prices,\n",
    "and therefore, a lower MSE implies higher accuracy.\n",
    "On the other hand, R2 measures the proportion of the variance in the target variable that is explained by the model. While a high R2 value is\n",
    "generally desirable, it does not necessarily indicate that the model's predictions are close to the actual house prices. A model with a high \n",
    "R2 value may still have a high MSE and, therefore, could provide inaccurate predictions of house prices.\n",
    "Therefore, if the primary goal is to predict the actual price of a house as accurately as possible, the MSE metric would be more appropriate\n",
    "as it directly reflects the accuracy of the model's predictions."
   ]
  },
  {
   "cell_type": "code",
   "execution_count": null,
   "id": "73fdec2a-5990-472e-bd84-be7c1fa3af75",
   "metadata": {},
   "outputs": [],
   "source": [
    "# Q3. You have a dataset with a significant number of outliers and are trying to select an appropriate\n",
    "# regression metric to use with your SVM model. Which metric would be the most appropriate in this\n",
    "# scenario?\n",
    "If the dataset contains a significant number of outliers, the most appropriate regression metric to use with your SVM model would be the\n",
    "Mean Absolute Error (MAE).\n",
    "MAE measures the average absolute difference between the predicted and actual values. Unlike the Mean Squared Error (MSE), which penalizes\n",
    "larger errors more heavily than smaller errors, MAE treats all errors equally, making it less sensitive to outliers in the dataset.\n",
    "Since outliers can significantly affect the performance of other regression metrics such as MSE, MAE is a better choice when working with\n",
    "datasets that contain a significant number of outliers. MAE provides a more robust evaluation of the model's performance, and it is less\n",
    "affected by extreme values in the target variable.\n",
    "Therefore, if your dataset contains a significant number of outliers, it is recommended to use the MAE metric to evaluate the performance \n",
    "of your SVM regression model."
   ]
  },
  {
   "cell_type": "code",
   "execution_count": null,
   "id": "f43c8347-77ee-4506-8288-f9e694e76842",
   "metadata": {},
   "outputs": [],
   "source": [
    "# Q4. You have built an SVM regression model using a polynomial kernel and are trying to select the best\n",
    "# metric to evaluate its performance. You have calculated both MSE and RMSE and found that both values\n",
    "# are very close. Which metric should you choose to use in this case?\n",
    "Ans.\n",
    "If both the Mean Squared Error (MSE) and Root Mean Squared Error (RMSE) values are very close, either metric can be used to evaluate the\n",
    "performance of the SVM regression model using a polynomial kernel.\n",
    "MSE and RMSE are both commonly used regression metrics, and they measure the same thing: the difference between the predicted and actual \n",
    "values. RMSE is simply the square root of MSE, which means that it penalizes larger errors more heavily than smaller errors.\n",
    "In some cases, RMSE is preferred over MSE because it has the same unit as the target variable, which makes it more interpretable. However,\n",
    "if the difference between the two metrics is negligible, then it may not matter which one is used.\n",
    "Therefore, in this case, you can choose either MSE or RMSE to evaluate the performance of the SVM regression model using a polynomial kernel,\n",
    "as both metrics are very close and provide a similar evaluation of the model's performance."
   ]
  },
  {
   "cell_type": "code",
   "execution_count": null,
   "id": "73db4bde-ebf3-410b-883b-01575c903738",
   "metadata": {},
   "outputs": [],
   "source": [
    "# Q5. You are comparing the performance of different SVM regression models using different kernels (linear,\n",
    "# polynomial, and RBF) and are trying to select the best evaluation metric. Which metric would be most\n",
    "# appropriate if your goal is to measure how well the model explains the variance in the target variable?\n",
    "Ans.\n",
    "If your goal is to measure how well the SVM regression model explains the variance in the target variable, then the most appropriate\n",
    "evaluation metric would be the Coefficient of Determination or R-squared (R²).\n",
    "The R² score measures the proportion of variance in the target variable that is explained by the model. It provides a measure of how \n",
    "well the model fits the data, with a value ranging from 0 to 1. A higher R² score indicates a better fit, with a score of 1 indicating a\n",
    "perfect fit.\n",
    "R² is a commonly used metric in regression analysis and is particularly useful when comparing the performance of different models with \n",
    "different kernels. Since R² measures how well the model explains the variance in the target variable, it allows you to compare models with \n",
    "different kernels based on their ability to fit the data.\n",
    "Therefore, if you are comparing the performance of different SVM regression models with different kernels and want to measure how well the \n",
    "models explain the variance in the target variable, R² would be the most appropriate evaluation metric."
   ]
  }
 ],
 "metadata": {
  "kernelspec": {
   "display_name": "Python 3 (ipykernel)",
   "language": "python",
   "name": "python3"
  },
  "language_info": {
   "codemirror_mode": {
    "name": "ipython",
    "version": 3
   },
   "file_extension": ".py",
   "mimetype": "text/x-python",
   "name": "python",
   "nbconvert_exporter": "python",
   "pygments_lexer": "ipython3",
   "version": "3.10.8"
  }
 },
 "nbformat": 4,
 "nbformat_minor": 5
}
